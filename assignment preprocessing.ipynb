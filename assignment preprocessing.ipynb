{
 "cells": [
  {
   "cell_type": "code",
   "execution_count": null,
   "id": "cce2bd5f",
   "metadata": {},
   "outputs": [],
   "source": [
    "## Read assignment csv file "
   ]
  },
  {
   "cell_type": "code",
   "execution_count": null,
   "id": "9f3ea7ea",
   "metadata": {},
   "outputs": [],
   "source": [
    "## Check null/missing values in columns"
   ]
  },
  {
   "cell_type": "code",
   "execution_count": null,
   "id": "7f69ab31",
   "metadata": {},
   "outputs": [],
   "source": [
    "## Count number of missing values in columns"
   ]
  },
  {
   "cell_type": "code",
   "execution_count": null,
   "id": "4c3a7857",
   "metadata": {},
   "outputs": [],
   "source": [
    "## Replace  null/missing values  \n",
    "# some string(NAN) for categorial columns and mean value for numerical columns"
   ]
  },
  {
   "cell_type": "code",
   "execution_count": null,
   "id": "86deab7c",
   "metadata": {},
   "outputs": [],
   "source": [
    "## Apply Standardscalar and MinMax Scalar  seperately "
   ]
  },
  {
   "cell_type": "code",
   "execution_count": null,
   "id": "7ab1cdc7",
   "metadata": {},
   "outputs": [],
   "source": [
    "# use both methods pandas built-in methods and imputer "
   ]
  }
 ],
 "metadata": {
  "kernelspec": {
   "display_name": "Python 3 (ipykernel)",
   "language": "python",
   "name": "python3"
  },
  "language_info": {
   "codemirror_mode": {
    "name": "ipython",
    "version": 3
   },
   "file_extension": ".py",
   "mimetype": "text/x-python",
   "name": "python",
   "nbconvert_exporter": "python",
   "pygments_lexer": "ipython3",
   "version": "3.9.13"
  }
 },
 "nbformat": 4,
 "nbformat_minor": 5
}
